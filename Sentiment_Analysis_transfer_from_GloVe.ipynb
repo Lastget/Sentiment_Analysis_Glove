{
  "nbformat": 4,
  "nbformat_minor": 0,
  "metadata": {
    "accelerator": "GPU",
    "colab": {
      "name": "Sentiment Analysis transfer from GloVe",
      "provenance": [],
      "include_colab_link": true
    },
    "kernelspec": {
      "display_name": "Python 3",
      "name": "python3"
    }
  },
  "cells": [
    {
      "cell_type": "markdown",
      "metadata": {
        "id": "view-in-github",
        "colab_type": "text"
      },
      "source": [
        "<a href=\"https://colab.research.google.com/github/Lastget/Sentiment_Analysis_Glove/blob/master/Sentiment_Analysis_transfer_from_GloVe.ipynb\" target=\"_parent\"><img src=\"https://colab.research.google.com/assets/colab-badge.svg\" alt=\"Open In Colab\"/></a>"
      ]
    },
    {
      "cell_type": "code",
      "metadata": {
        "id": "zX4Kg8DUTKWO"
      },
      "source": [
        "#@title Licensed under the Apache License, Version 2.0 (the \"License\");\n",
        "# you may not use this file except in compliance with the License.\n",
        "# You may obtain a copy of the License at\n",
        "#\n",
        "# https://www.apache.org/licenses/LICENSE-2.0\n",
        "#\n",
        "# Unless required by applicable law or agreed to in writing, software\n",
        "# distributed under the License is distributed on an \"AS IS\" BASIS,\n",
        "# WITHOUT WARRANTIES OR CONDITIONS OF ANY KIND, either express or implied.\n",
        "# See the License for the specific language governing permissions and\n",
        "# limitations under the License."
      ],
      "execution_count": null,
      "outputs": []
    },
    {
      "cell_type": "code",
      "metadata": {
        "id": "hmA6EzkQJ5jt"
      },
      "source": [
        "import json\n",
        "import tensorflow as tf\n",
        "import csv\n",
        "import random\n",
        "import numpy as np\n",
        "\n",
        "from tensorflow.keras.preprocessing.text import Tokenizer\n",
        "from tensorflow.keras.preprocessing.sequence import pad_sequences\n",
        "from tensorflow.keras.utils import to_categorical\n",
        "from tensorflow.keras import regularizers\n",
        "\n",
        "\n",
        "embedding_dim = 100\n",
        "max_length = 16\n",
        "trunc_type='post'\n",
        "padding_type='post'\n",
        "oov_tok = \"<OOV>\"\n",
        "training_size= 160000\n",
        "test_portion=.1\n",
        "\n",
        "corpus = []\n"
      ],
      "execution_count": null,
      "outputs": []
    },
    {
      "cell_type": "code",
      "metadata": {
        "id": "bM0l_dORKqE0",
        "outputId": "e981e818-44d8-4a62-b14e-153e5f39f956",
        "colab": {
          "base_uri": "https://localhost:8080/",
          "height": 232
        }
      },
      "source": [
        "# Note that I cleaned the Stanford dataset to remove LATIN1 encoding to make it easier for Python CSV reader\n",
        "# You can do that yourself with:\n",
        "# iconv -f LATIN1 -t UTF8 training.1600000.processed.noemoticon.csv -o training_cleaned.csv\n",
        "# I then hosted it on my site to make it easier to use in this notebook\n",
        "\n",
        "!wget --no-check-certificate \\\n",
        "    https://storage.googleapis.com/laurencemoroney-blog.appspot.com/training_cleaned.csv \\\n",
        "    -O /tmp/training_cleaned.csv\n",
        "\n",
        "num_sentences = 0\n",
        "\n",
        "with open(\"/tmp/training_cleaned.csv\") as csvfile:\n",
        "    reader = csv.reader(csvfile, delimiter=',')\n",
        "    for row in reader:\n",
        "      # Your Code here. Create list items where the first item is the text, found in row[5], and the second is the label. Note that the label is a '0' or a '4' in the text. When it's the former, make\n",
        "      # your label to be 0, otherwise 1. Keep a count of the number of sentences in num_sentences\n",
        "      list_item=[]\n",
        "      list_item.append(row[5])\n",
        "      this_label= row[0]\n",
        "      if this_label == '0':\n",
        "        list_item.append(0)\n",
        "      else:\n",
        "        list_item.append(1)\n",
        "      num_sentences = num_sentences + 1\n",
        "      corpus.append(list_item)\n"
      ],
      "execution_count": null,
      "outputs": [
        {
          "output_type": "stream",
          "text": [
            "--2020-09-28 04:28:41--  https://storage.googleapis.com/laurencemoroney-blog.appspot.com/training_cleaned.csv\n",
            "Resolving storage.googleapis.com (storage.googleapis.com)... 74.125.195.128, 74.125.142.128, 2607:f8b0:400e:c07::80, ...\n",
            "Connecting to storage.googleapis.com (storage.googleapis.com)|74.125.195.128|:443... connected.\n",
            "HTTP request sent, awaiting response... 200 OK\n",
            "Length: 238942690 (228M) [application/octet-stream]\n",
            "Saving to: ‘/tmp/training_cleaned.csv’\n",
            "\n",
            "/tmp/training_clean 100%[===================>] 227.87M   184MB/s    in 1.2s    \n",
            "\n",
            "2020-09-28 04:28:43 (184 MB/s) - ‘/tmp/training_cleaned.csv’ saved [238942690/238942690]\n",
            "\n"
          ],
          "name": "stdout"
        }
      ]
    },
    {
      "cell_type": "code",
      "metadata": {
        "id": "3kxblBUjEUX-",
        "outputId": "a5c48f2a-03ad-4e88-84b3-b22bdb1f1864",
        "colab": {
          "base_uri": "https://localhost:8080/",
          "height": 90
        }
      },
      "source": [
        "print(num_sentences)\n",
        "print(len(corpus))\n",
        "print(corpus[1])\n",
        "\n",
        "# Expected Output:\n",
        "# 1600000\n",
        "# 1600000\n",
        "# [\"is upset that he can't update his Facebook by texting it... and might cry as a result  School today also. Blah!\", 0]"
      ],
      "execution_count": null,
      "outputs": [
        {
          "output_type": "stream",
          "text": [
            "1600000\n",
            "1600000\n",
            "[\"is upset that he can't update his Facebook by texting it... and might cry as a result  School today also. Blah!\", 0]\n"
          ],
          "name": "stdout"
        }
      ]
    },
    {
      "cell_type": "code",
      "metadata": {
        "id": "ohOGz24lsNAD"
      },
      "source": [
        "sentences=[]\n",
        "labels=[]\n",
        "random.shuffle(corpus)\n",
        "for x in range(training_size):\n",
        "    sentences.append(corpus[x][0])\n",
        "    labels.append(corpus[x][1])\n",
        "\n",
        "\n",
        "tokenizer = Tokenizer()\n",
        "tokenizer.fit_on_texts(sentences)\n",
        "\n",
        "word_index = tokenizer.word_index\n",
        "vocab_size=len(word_index)\n",
        "\n",
        "sequences = tokenizer.texts_to_sequences(sentences)\n",
        "padded = pad_sequences(sequences, maxlen=max_length, padding= padding_type, truncating=trunc_type)\n",
        "\n",
        "split = int(test_portion * training_size)\n",
        "\n",
        "test_sequences = padded[0:split]\n",
        "training_sequences = padded[split:training_size]\n",
        "test_labels = labels[0:split]\n",
        "training_labels = labels[split:training_size]"
      ],
      "execution_count": null,
      "outputs": []
    },
    {
      "cell_type": "code",
      "metadata": {
        "id": "gIrtRem1En3N",
        "outputId": "c441383d-bdec-4b84-8ff9-4c07be9bc936",
        "colab": {
          "base_uri": "https://localhost:8080/",
          "height": 52
        }
      },
      "source": [
        "print(vocab_size)\n",
        "print(word_index['i'])\n",
        "# Expected Output\n",
        "# 138858\n",
        "# 1"
      ],
      "execution_count": null,
      "outputs": [
        {
          "output_type": "stream",
          "text": [
            "138515\n",
            "1\n"
          ],
          "name": "stdout"
        }
      ]
    },
    {
      "cell_type": "code",
      "metadata": {
        "id": "C1zdgJkusRh0",
        "outputId": "b89c1df6-54cf-44c3-ce0d-36981faefc5d",
        "colab": {
          "base_uri": "https://localhost:8080/",
          "height": 232
        }
      },
      "source": [
        "# Note this is the 100 dimension version of GloVe from Stanford\n",
        "# I unzipped and hosted it on my site to make this notebook easier\n",
        "!wget --no-check-certificate \\\n",
        "    https://storage.googleapis.com/laurencemoroney-blog.appspot.com/glove.6B.100d.txt \\\n",
        "    -O /tmp/glove.6B.100d.txt\n",
        "embeddings_index = {};\n",
        "with open('/tmp/glove.6B.100d.txt') as f:\n",
        "    for line in f:\n",
        "        values = line.split();\n",
        "        word = values[0];\n",
        "        coefs = np.asarray(values[1:], dtype='float32');\n",
        "        embeddings_index[word] = coefs;\n",
        "\n",
        "embeddings_matrix = np.zeros((vocab_size+1, embedding_dim));\n",
        "for word, i in word_index.items():\n",
        "    embedding_vector = embeddings_index.get(word);\n",
        "    if embedding_vector is not None:\n",
        "        embeddings_matrix[i] = embedding_vector;"
      ],
      "execution_count": null,
      "outputs": [
        {
          "output_type": "stream",
          "text": [
            "--2020-09-28 04:30:26--  https://storage.googleapis.com/laurencemoroney-blog.appspot.com/glove.6B.100d.txt\n",
            "Resolving storage.googleapis.com (storage.googleapis.com)... 74.125.142.128, 74.125.197.128, 74.125.195.128, ...\n",
            "Connecting to storage.googleapis.com (storage.googleapis.com)|74.125.142.128|:443... connected.\n",
            "HTTP request sent, awaiting response... 200 OK\n",
            "Length: 347116733 (331M) [text/plain]\n",
            "Saving to: ‘/tmp/glove.6B.100d.txt’\n",
            "\n",
            "/tmp/glove.6B.100d. 100%[===================>] 331.04M   173MB/s    in 1.9s    \n",
            "\n",
            "2020-09-28 04:30:28 (173 MB/s) - ‘/tmp/glove.6B.100d.txt’ saved [347116733/347116733]\n",
            "\n"
          ],
          "name": "stdout"
        }
      ]
    },
    {
      "cell_type": "code",
      "metadata": {
        "id": "71NLk_lpFLNt",
        "outputId": "2c8e045c-a139-4ada-9391-84f0ceb7c903",
        "colab": {
          "base_uri": "https://localhost:8080/",
          "height": 34
        }
      },
      "source": [
        "print(len(embeddings_matrix))\n",
        "# Expected Output\n",
        "# 138859"
      ],
      "execution_count": null,
      "outputs": [
        {
          "output_type": "stream",
          "text": [
            "138516\n"
          ],
          "name": "stdout"
        }
      ]
    },
    {
      "cell_type": "code",
      "metadata": {
        "id": "iKKvbuEBOGFz",
        "outputId": "1c27bfe9-e03b-4cb4-e757-b026e1a2d070",
        "colab": {
          "base_uri": "https://localhost:8080/",
          "height": 1000
        }
      },
      "source": [
        "model = tf.keras.Sequential([\n",
        "    tf.keras.layers.Embedding(vocab_size+1, embedding_dim, input_length=max_length, weights=[embeddings_matrix], trainable=False),\n",
        "    tf.keras.layers.Dropout(0.2),\n",
        "    tf.keras.layers.Conv1D(64,5,activation='relu'),\n",
        "    tf.keras.layers.MaxPooling1D(pool_size=4),\n",
        "    tf.keras.layers.LSTM(64),\n",
        "    tf.keras.layers.Dense(1,activation='sigmoid')\n",
        "])\n",
        "model.compile(loss='binary_crossentropy', optimizer='adam', metrics=['accuracy'])\n",
        "model.summary()\n",
        "\n",
        "num_epochs = 50\n",
        "\n",
        "training_padded = np.array(training_sequences)\n",
        "training_labels = np.array(training_labels)\n",
        "testing_padded = np.array(test_sequences)\n",
        "testing_labels = np.array(test_labels)\n",
        "\n",
        "history = model.fit(training_padded, training_labels, epochs=num_epochs, validation_data=(testing_padded, testing_labels), verbose=2)\n",
        "\n",
        "print(\"Training Complete\")\n"
      ],
      "execution_count": null,
      "outputs": [
        {
          "output_type": "stream",
          "text": [
            "Model: \"sequential_2\"\n",
            "_________________________________________________________________\n",
            "Layer (type)                 Output Shape              Param #   \n",
            "=================================================================\n",
            "embedding_2 (Embedding)      (None, 16, 100)           13851600  \n",
            "_________________________________________________________________\n",
            "dropout_2 (Dropout)          (None, 16, 100)           0         \n",
            "_________________________________________________________________\n",
            "conv1d_2 (Conv1D)            (None, 12, 64)            32064     \n",
            "_________________________________________________________________\n",
            "max_pooling1d_2 (MaxPooling1 (None, 3, 64)             0         \n",
            "_________________________________________________________________\n",
            "lstm_2 (LSTM)                (None, 64)                33024     \n",
            "_________________________________________________________________\n",
            "dense_2 (Dense)              (None, 1)                 65        \n",
            "=================================================================\n",
            "Total params: 13,916,753\n",
            "Trainable params: 65,153\n",
            "Non-trainable params: 13,851,600\n",
            "_________________________________________________________________\n",
            "Epoch 1/50\n",
            "4500/4500 - 15s - loss: 0.5661 - accuracy: 0.6991 - val_loss: 0.5459 - val_accuracy: 0.7150\n",
            "Epoch 2/50\n",
            "4500/4500 - 14s - loss: 0.5254 - accuracy: 0.7324 - val_loss: 0.5129 - val_accuracy: 0.7439\n",
            "Epoch 3/50\n",
            "4500/4500 - 14s - loss: 0.5086 - accuracy: 0.7452 - val_loss: 0.5098 - val_accuracy: 0.7458\n",
            "Epoch 4/50\n",
            "4500/4500 - 14s - loss: 0.4972 - accuracy: 0.7527 - val_loss: 0.5097 - val_accuracy: 0.7484\n",
            "Epoch 5/50\n",
            "4500/4500 - 14s - loss: 0.4888 - accuracy: 0.7586 - val_loss: 0.5070 - val_accuracy: 0.7477\n",
            "Epoch 6/50\n",
            "4500/4500 - 14s - loss: 0.4825 - accuracy: 0.7621 - val_loss: 0.5087 - val_accuracy: 0.7479\n",
            "Epoch 7/50\n",
            "4500/4500 - 14s - loss: 0.4763 - accuracy: 0.7674 - val_loss: 0.5063 - val_accuracy: 0.7506\n",
            "Epoch 8/50\n",
            "4500/4500 - 14s - loss: 0.4709 - accuracy: 0.7703 - val_loss: 0.5027 - val_accuracy: 0.7513\n",
            "Epoch 9/50\n",
            "4500/4500 - 14s - loss: 0.4675 - accuracy: 0.7727 - val_loss: 0.5023 - val_accuracy: 0.7546\n",
            "Epoch 10/50\n",
            "4500/4500 - 14s - loss: 0.4630 - accuracy: 0.7742 - val_loss: 0.5077 - val_accuracy: 0.7546\n",
            "Epoch 11/50\n",
            "4500/4500 - 14s - loss: 0.4605 - accuracy: 0.7771 - val_loss: 0.5077 - val_accuracy: 0.7500\n",
            "Epoch 12/50\n",
            "4500/4500 - 14s - loss: 0.4573 - accuracy: 0.7794 - val_loss: 0.5206 - val_accuracy: 0.7474\n",
            "Epoch 13/50\n",
            "4500/4500 - 14s - loss: 0.4548 - accuracy: 0.7795 - val_loss: 0.5121 - val_accuracy: 0.7523\n",
            "Epoch 14/50\n",
            "4500/4500 - 14s - loss: 0.4521 - accuracy: 0.7809 - val_loss: 0.5146 - val_accuracy: 0.7520\n",
            "Epoch 15/50\n",
            "4500/4500 - 14s - loss: 0.4492 - accuracy: 0.7832 - val_loss: 0.5215 - val_accuracy: 0.7473\n",
            "Epoch 16/50\n",
            "4500/4500 - 14s - loss: 0.4488 - accuracy: 0.7841 - val_loss: 0.5122 - val_accuracy: 0.7501\n",
            "Epoch 17/50\n",
            "4500/4500 - 14s - loss: 0.4466 - accuracy: 0.7852 - val_loss: 0.5174 - val_accuracy: 0.7476\n",
            "Epoch 18/50\n",
            "4500/4500 - 14s - loss: 0.4451 - accuracy: 0.7858 - val_loss: 0.5177 - val_accuracy: 0.7486\n",
            "Epoch 19/50\n",
            "4500/4500 - 15s - loss: 0.4429 - accuracy: 0.7875 - val_loss: 0.5129 - val_accuracy: 0.7476\n",
            "Epoch 20/50\n",
            "4500/4500 - 14s - loss: 0.4422 - accuracy: 0.7872 - val_loss: 0.5187 - val_accuracy: 0.7488\n",
            "Epoch 21/50\n",
            "4500/4500 - 14s - loss: 0.4393 - accuracy: 0.7895 - val_loss: 0.5191 - val_accuracy: 0.7496\n",
            "Epoch 22/50\n",
            "4500/4500 - 14s - loss: 0.4384 - accuracy: 0.7900 - val_loss: 0.5159 - val_accuracy: 0.7490\n",
            "Epoch 23/50\n",
            "4500/4500 - 14s - loss: 0.4374 - accuracy: 0.7907 - val_loss: 0.5178 - val_accuracy: 0.7484\n",
            "Epoch 24/50\n",
            "4500/4500 - 14s - loss: 0.4379 - accuracy: 0.7912 - val_loss: 0.5142 - val_accuracy: 0.7531\n",
            "Epoch 25/50\n",
            "4500/4500 - 14s - loss: 0.4356 - accuracy: 0.7918 - val_loss: 0.5252 - val_accuracy: 0.7460\n",
            "Epoch 26/50\n",
            "4500/4500 - 14s - loss: 0.4353 - accuracy: 0.7916 - val_loss: 0.5253 - val_accuracy: 0.7469\n",
            "Epoch 27/50\n",
            "4500/4500 - 14s - loss: 0.4353 - accuracy: 0.7916 - val_loss: 0.5286 - val_accuracy: 0.7430\n",
            "Epoch 28/50\n",
            "4500/4500 - 14s - loss: 0.4343 - accuracy: 0.7921 - val_loss: 0.5190 - val_accuracy: 0.7503\n",
            "Epoch 29/50\n",
            "4500/4500 - 14s - loss: 0.4331 - accuracy: 0.7928 - val_loss: 0.5298 - val_accuracy: 0.7467\n",
            "Epoch 30/50\n",
            "4500/4500 - 14s - loss: 0.4322 - accuracy: 0.7939 - val_loss: 0.5253 - val_accuracy: 0.7461\n",
            "Epoch 31/50\n",
            "4500/4500 - 14s - loss: 0.4321 - accuracy: 0.7939 - val_loss: 0.5289 - val_accuracy: 0.7440\n",
            "Epoch 32/50\n",
            "4500/4500 - 14s - loss: 0.4315 - accuracy: 0.7939 - val_loss: 0.5268 - val_accuracy: 0.7466\n",
            "Epoch 33/50\n",
            "4500/4500 - 14s - loss: 0.4311 - accuracy: 0.7938 - val_loss: 0.5227 - val_accuracy: 0.7473\n",
            "Epoch 34/50\n",
            "4500/4500 - 14s - loss: 0.4308 - accuracy: 0.7946 - val_loss: 0.5325 - val_accuracy: 0.7442\n",
            "Epoch 35/50\n",
            "4500/4500 - 14s - loss: 0.4295 - accuracy: 0.7955 - val_loss: 0.5256 - val_accuracy: 0.7452\n",
            "Epoch 36/50\n",
            "4500/4500 - 14s - loss: 0.4292 - accuracy: 0.7959 - val_loss: 0.5245 - val_accuracy: 0.7476\n",
            "Epoch 37/50\n",
            "4500/4500 - 14s - loss: 0.4291 - accuracy: 0.7950 - val_loss: 0.5285 - val_accuracy: 0.7484\n",
            "Epoch 38/50\n",
            "4500/4500 - 14s - loss: 0.4279 - accuracy: 0.7947 - val_loss: 0.5279 - val_accuracy: 0.7460\n",
            "Epoch 39/50\n",
            "4500/4500 - 14s - loss: 0.4288 - accuracy: 0.7950 - val_loss: 0.5346 - val_accuracy: 0.7443\n",
            "Epoch 40/50\n",
            "4500/4500 - 15s - loss: 0.4276 - accuracy: 0.7963 - val_loss: 0.5314 - val_accuracy: 0.7447\n",
            "Epoch 41/50\n",
            "4500/4500 - 15s - loss: 0.4279 - accuracy: 0.7969 - val_loss: 0.5303 - val_accuracy: 0.7454\n",
            "Epoch 42/50\n",
            "4500/4500 - 14s - loss: 0.4273 - accuracy: 0.7962 - val_loss: 0.5316 - val_accuracy: 0.7449\n",
            "Epoch 43/50\n",
            "4500/4500 - 14s - loss: 0.4246 - accuracy: 0.7982 - val_loss: 0.5351 - val_accuracy: 0.7394\n",
            "Epoch 44/50\n",
            "4500/4500 - 14s - loss: 0.4268 - accuracy: 0.7968 - val_loss: 0.5298 - val_accuracy: 0.7446\n",
            "Epoch 45/50\n",
            "4500/4500 - 14s - loss: 0.4275 - accuracy: 0.7955 - val_loss: 0.5245 - val_accuracy: 0.7425\n",
            "Epoch 46/50\n",
            "4500/4500 - 14s - loss: 0.4256 - accuracy: 0.7982 - val_loss: 0.5279 - val_accuracy: 0.7422\n",
            "Epoch 47/50\n",
            "4500/4500 - 14s - loss: 0.4251 - accuracy: 0.7978 - val_loss: 0.5354 - val_accuracy: 0.7433\n",
            "Epoch 48/50\n",
            "4500/4500 - 14s - loss: 0.4258 - accuracy: 0.7979 - val_loss: 0.5367 - val_accuracy: 0.7432\n",
            "Epoch 49/50\n",
            "4500/4500 - 14s - loss: 0.4274 - accuracy: 0.7959 - val_loss: 0.5317 - val_accuracy: 0.7445\n",
            "Epoch 50/50\n",
            "4500/4500 - 15s - loss: 0.4261 - accuracy: 0.7977 - val_loss: 0.5347 - val_accuracy: 0.7402\n",
            "Training Complete\n"
          ],
          "name": "stdout"
        }
      ]
    },
    {
      "cell_type": "code",
      "metadata": {
        "id": "qxju4ItJKO8F",
        "outputId": "b7306bfb-7138-4536-977f-9f4cfd1288b3",
        "colab": {
          "base_uri": "https://localhost:8080/",
          "height": 608
        }
      },
      "source": [
        "import matplotlib.image  as mpimg\n",
        "import matplotlib.pyplot as plt\n",
        "\n",
        "#-----------------------------------------------------------\n",
        "# Retrieve a list of list results on training and test data\n",
        "# sets for each training epoch\n",
        "#-----------------------------------------------------------\n",
        "acc=history.history['accuracy']\n",
        "val_acc=history.history['val_accuracy']\n",
        "loss=history.history['loss']\n",
        "val_loss=history.history['val_loss']\n",
        "\n",
        "epochs=range(len(acc)) # Get number of epochs\n",
        "\n",
        "#------------------------------------------------\n",
        "# Plot training and validation accuracy per epoch\n",
        "#------------------------------------------------\n",
        "plt.plot(epochs, acc, 'r')\n",
        "plt.plot(epochs, val_acc, 'b')\n",
        "plt.title('Training and validation accuracy')\n",
        "plt.xlabel(\"Epochs\")\n",
        "plt.ylabel(\"Accuracy\")\n",
        "plt.legend([\"Accuracy\", \"Validation Accuracy\"])\n",
        "\n",
        "plt.figure()\n",
        "\n",
        "#------------------------------------------------\n",
        "# Plot training and validation loss per epoch\n",
        "#------------------------------------------------\n",
        "plt.plot(epochs, loss, 'r')\n",
        "plt.plot(epochs, val_loss, 'b')\n",
        "plt.title('Training and validation loss')\n",
        "plt.xlabel(\"Epochs\")\n",
        "plt.ylabel(\"Loss\")\n",
        "plt.legend([\"Loss\", \"Validation Loss\"])\n",
        "\n",
        "plt.figure()\n",
        "\n",
        "\n",
        "# Expected Output\n",
        "# A chart where the validation loss does not increase sharply!"
      ],
      "execution_count": null,
      "outputs": [
        {
          "output_type": "execute_result",
          "data": {
            "text/plain": [
              "<Figure size 432x288 with 0 Axes>"
            ]
          },
          "metadata": {
            "tags": []
          },
          "execution_count": 16
        },
        {
          "output_type": "display_data",
          "data": {
            "image/png": "[encoded data removed]",
            "text/plain": [
              "<Figure size 432x288 with 1 Axes>"
            ]
          },
          "metadata": {
            "tags": [],
            "needs_background": "light"
          }
        },
        {
          "output_type": "display_data",
          "data": {
            "image/png": "[encoded data removed]",
            "text/plain": [
              "<Figure size 432x288 with 1 Axes>"
            ]
          },
          "metadata": {
            "tags": [],
            "needs_background": "light"
          }
        },
        {
          "output_type": "display_data",
          "data": {
            "text/plain": [
              "<Figure size 432x288 with 0 Axes>"
            ]
          },
          "metadata": {
            "tags": []
          }
        }
      ]
    }
  ]
}